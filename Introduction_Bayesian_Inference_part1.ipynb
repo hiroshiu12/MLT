{
 "cells": [
  {
   "cell_type": "markdown",
   "metadata": {},
   "source": [
    "# Introduction to Baysian Inference part 1\n",
    "<div style=\"text-align:right;\">23th Mar Hiroshi Urata</div>\n",
    "  \n",
    "  <br>\n",
    "  <br>\n",
    "Table of Contents  \n",
    "1. Fundamentals of Probability\n",
    "    1. Basic notation\n",
    "    1. Sum rule and Product rule\n",
    "    2. Probability mass function\n",
    "    3. Probability density function\n",
    "2. Maximum Likelihood Estimation\n",
    "    \n",
    "3. Bayesian Inference\n",
    "\n",
    "4. Reference"
   ]
  },
  {
   "cell_type": "code",
   "execution_count": 15,
   "metadata": {
    "collapsed": true
   },
   "outputs": [],
   "source": [
    "import numpy as np\n",
    "from scipy.stats import bernoulli\n",
    "from scipy.stats import  beta\n",
    "import matplotlib.pyplot as plt\n",
    "%matplotlib inline"
   ]
  },
  {
   "cell_type": "markdown",
   "metadata": {},
   "source": [
    "## 1. Fundamentals of Probability  \n",
    "### 1-1. Basic notation\n",
    "Let $x$ and $y$ are probability variables,\n",
    "- $p(x,y)$ : <u>Joint distribution </u>\n",
    "which is verbalized as 'the probability $x$ and $y$'.\n",
    "- $p(x|y)$ : <u>Conditional distribution</u> which is verbalized as 'the probability of $x$ given $y$'.  \n",
    "  \n",
    "<br>\n",
    "Example :\n",
    "<div style=\"float:right;\"><img src=\"Box_fruits.png\"　width=\"300px\"></img></div>\n",
    "There are two coloured boxes each containing fruits. Apple is shown in red and orange is  coloured \n",
    "in orange. Let's say the identity of the box that will be chosen is a random variable $x$, this random   \n",
    "variable can take one of the two possible values, namely b (corresponding to the blue box) or g \n",
    "(corresponding to the green box).\n",
    "\n",
    "Given that we have chosen blue box, what is the probability that we chose apple. We can apply\n",
    "\n",
    "  \n",
    "  \n",
    "  \n",
    "  \n",
    "  \n",
    "  \n",
    "  <br>\n",
    "  <br>\n",
    "<br>\n",
    "<br>\n",
    "### 1-2. Sum rule and Product rule  \n",
    "\n",
    "### 1-3. Probability mass function  \n",
    "\n",
    "\n"
   ]
  },
  {
   "cell_type": "markdown",
   "metadata": {},
   "source": [
    "### 1-4. Probability density function\n",
    "Probability funciton with continuous probability variable.  \n",
    "- Beta distribution  \n",
    "  \n",
    "$$Beta(\\mu|a,b) = \\frac{\\Gamma(a+b)}{\\Gamma(a)\\Gamma(b)}\\mu^{a-1}(1-\\mu)^{b-1}$$"
   ]
  },
  {
   "cell_type": "code",
   "execution_count": 10,
   "metadata": {},
   "outputs": [
    {
     "data": {
      "image/png": "[encoded data removed]",
      "text/plain": [
       "<Figure size 432x288 with 1 Axes>"
      ]
     },
     "metadata": {},
     "output_type": "display_data"
    }
   ],
   "source": [
    "x = np.linspace(0,1,101)\n",
    "\n",
    "a_list  = [0.5, 0.6, 1.0, 10.0, 10.0]\n",
    "b_list = [0.5, 0.8, 1.0, 40.0, 5.0]\n",
    "\n",
    "for a, b in zip(a_list, b_list):\n",
    "    y = beta.pdf(x,a=a,b=b)\n",
    "    \n",
    "    plt.plot(x,y,label='a={}, b={}'.format(a,b))\n",
    "    plt.legend()\n",
    "    \n",
    "plt.show()"
   ]
  },
  {
   "cell_type": "markdown",
   "metadata": {},
   "source": [
    "## 2. Maximum Likelihood Estimation\n",
    "As an example, we're gonna create a model which tells Osaka naomi will win or not.  \n",
    "Let's say her winning follows *bernoulli distribution* as following,\n",
    "  \n",
    "$$Bern(x|\\mu) = p(x|\\mu) = \\mu^{x}(1-\\mu)^{1-x}$$\n",
    "  \n",
    "Now we have observations $X=\\{x_1, x_2, \\cdots, x_{10}\\} $. "
   ]
  },
  {
   "cell_type": "code",
   "execution_count": 4,
   "metadata": {
    "collapsed": true
   },
   "outputs": [],
   "source": [
    "# Result of Osaka naomi's game in 2019\n",
    "# '1' means win, '0' means lose.\n",
    "obs = np.array([1,1,1,1,1,0,1,1,1,0,1,1,1,1,1,1,1,1,1,1])"
   ]
  },
  {
   "cell_type": "markdown",
   "metadata": {},
   "source": [
    "Since we set assumption of independency towards observations, joint distribution would be, \n",
    "\n",
    "$$ p(X|\\mu) = \\prod_{n=1}^{10}p(x_n|\\mu) = \\prod_{n=1}^{10}\\mu^{x_n}(1-\\mu)^{1-x_n}$$\n",
    "\n",
    "This is the likelihood function with respect to $\\mu$. We will find the value of $\\mu$ which maximize likelihood function equivalently by maximizing the log likelihood function.\n",
    "\n",
    "  \n",
    "<div style=\"text-align:center\">~ Demo ~</div>\n",
    "  \n",
    "We can obtain the following as a maximum likelihood estimator.  \n",
    "  \n",
    "$$\\mu_{ML} = \\frac{1}{N}\\sum_{n=1}^{10}x_n$$"
   ]
  },
  {
   "cell_type": "code",
   "execution_count": 6,
   "metadata": {
    "collapsed": true
   },
   "outputs": [],
   "source": [
    "def mle_estimator(obs):\n",
    "    \"\"\"\n",
    "    Compute maximum likelihood estimator of \n",
    "    Bernoulli distribution.\n",
    "    \"\"\"\n",
    "    return obs.sum() / obs.shape[0]"
   ]
  },
  {
   "cell_type": "markdown",
   "metadata": {},
   "source": [
    "In this case, we obtain 0.9 as a value of $\\mu$ which  maximize likelihood function."
   ]
  },
  {
   "cell_type": "code",
   "execution_count": 10,
   "metadata": {},
   "outputs": [
    {
     "name": "stdout",
     "output_type": "stream",
     "text": [
      "The value of mu obtained by maximum likelihood estimator is   0.9\n"
     ]
    }
   ],
   "source": [
    "mu_mle = mle_estimator(obs)\n",
    "print('The value of mu obtained by maximum likelihood estimator is  ',mu_mle)"
   ]
  },
  {
   "cell_type": "markdown",
   "metadata": {},
   "source": [
    "As a result, our model would be,   \n",
    "$$ p(x_*|0.9) = 0.9^{x_*}0.1^{1-x_*}$$  \n",
    "Now Let's say we observed　only the result of Australian Open. \n"
   ]
  },
  {
   "cell_type": "code",
   "execution_count": 16,
   "metadata": {
    "collapsed": true
   },
   "outputs": [],
   "source": [
    "# Result of Osaka naomi's game in Australian Open\n",
    "# '1' means win, '0' means lose.\n",
    "obs_aus = np.array([1,1,1,1,1])"
   ]
  },
  {
   "cell_type": "markdown",
   "metadata": {},
   "source": [
    "Then we can comute the value of $\\mu$ with Maximum likelihood estimation."
   ]
  },
  {
   "cell_type": "code",
   "execution_count": 16,
   "metadata": {},
   "outputs": [
    {
     "name": "stdout",
     "output_type": "stream",
     "text": [
      "The value of mu obtained by maximum likelihood estimator is   1.0\n"
     ]
    }
   ],
   "source": [
    "mu_mle_aus = mle_estimator(obs_aus)\n",
    "print('The value of mu obtained by maximum likelihood estimator is  ',mu_mle_aus)"
   ]
  },
  {
   "cell_type": "markdown",
   "metadata": {},
   "source": [
    "Our model says, Osaka Naomi will never ever lose in tennis match.... Is it feasible??  \n",
    "We can call it <b>*\"Overfitting\"*</b>."
   ]
  },
  {
   "cell_type": "markdown",
   "metadata": {},
   "source": [
    "## 3. Bayesian Inference"
   ]
  },
  {
   "cell_type": "markdown",
   "metadata": {},
   "source": [
    "In Baysian Inference, we put *\"prior distribution\"* to parameter. In this case, we can apply *\"Beta distribution\"* as prior distribution.\n",
    "\n",
    "$$Beta(\\mu|a,b) = \\frac{\\Gamma(a+b)}{\\Gamma(a)\\Gamma(b)}\\mu^{a-1}(1-\\mu)^{b-1}$$\n",
    "  \n",
    "Tentatively, we set $a=10, b=5$, since we know Osaka Naomi is really competitive :) Prior distribution looks like as following."
   ]
  },
  {
   "cell_type": "code",
   "execution_count": 13,
   "metadata": {},
   "outputs": [
    {
     "name": "stderr",
     "output_type": "stream",
     "text": [
      "/Users/uratah/anaconda/lib/python3.6/site-packages/matplotlib/font_manager.py:1241: UserWarning: findfont: Font family ['IPAexGothic'] not found. Falling back to DejaVu Sans.\n",
      "  (prop.get_family(), self.defaultFamily[fontext]))\n"
     ]
    },
    {
     "data": {
      "image/png": "[encoded data removed]",
      "text/plain": [
       "<Figure size 432x288 with 1 Axes>"
      ]
     },
     "metadata": {},
     "output_type": "display_data"
    }
   ],
   "source": [
    "x = np.linspace(0,1,101)\n",
    "\n",
    "a = 10\n",
    "b = 5\n",
    "\n",
    "y = beta.pdf(x,a=a,b=b)\n",
    "    \n",
    "plt.plot(x,y,label='a={}, b={}'.format(a,b))\n",
    "plt.legend()\n",
    "plt.title('Prior distribution')\n",
    "    \n",
    "plt.show()"
   ]
  },
  {
   "cell_type": "markdown",
   "metadata": {},
   "source": [
    "Now we can compute posterior distribution of $\\mu$,  \n",
    "  \n",
    "$$\\begin{eqnarray}p(\\mu|X) &=& \\frac{\\prod_{n=1}^{10}p(x_n|\\mu)p(\\mu)}{p(X)} \\\\ \n",
    "&\\propto& \\prod_{n=1}^{10}p(x_n|\\mu)p(\\mu)\\end{eqnarray}$$\n",
    "  \n",
    "As a result, we can obtain,\n",
    "\n",
    "$$\\begin{eqnarray}p(\\mu|X) &=& Beta(\\mu|\\hat{a}, \\hat{b})\\end{eqnarray}$$\n",
    "  \n",
    "$$\\hat{a} = \\Sigma_{n=1}^{N}x_n +  a$$\n",
    "  \n",
    "$$\\hat{b} = b + N - \\Sigma_{n=1}^{N}x_n$$"
   ]
  },
  {
   "cell_type": "code",
   "execution_count": 14,
   "metadata": {
    "collapsed": true
   },
   "outputs": [],
   "source": [
    "def pos(a,b,obs):\n",
    "    \"\"\"\n",
    "    Compute parameter of posterior distribution\n",
    "    \"\"\"\n",
    "    return obs.sum() + a, b+obs.shape[0] - obs.sum()"
   ]
  },
  {
   "cell_type": "markdown",
   "metadata": {},
   "source": [
    "We can compute posterior distribution with observation and parameter of prior distribution."
   ]
  },
  {
   "cell_type": "code",
   "execution_count": 20,
   "metadata": {},
   "outputs": [
    {
     "data": {
      "image/png": "[encoded data removed]",
      "text/plain": [
       "<Figure size 432x288 with 1 Axes>"
      ]
     },
     "metadata": {},
     "output_type": "display_data"
    }
   ],
   "source": [
    "a_hat, b_hat = pos(a,b,obs_aus)\n",
    "\n",
    "x = np.linspace(0,1,101)\n",
    "\n",
    "y = beta.pdf(x,a=a_hat,b=b_hat)\n",
    "    \n",
    "plt.plot(x,y,label='a={}, b={}'.format(a_hat,b_hat))\n",
    "plt.legend()\n",
    "plt.title('Posterior distribution')\n",
    "    \n",
    "plt.show()"
   ]
  },
  {
   "cell_type": "markdown",
   "metadata": {},
   "source": [
    "Then we can build prediction model."
   ]
  },
  {
   "cell_type": "markdown",
   "metadata": {},
   "source": [
    "## 4. Reference"
   ]
  }
 ],
 "metadata": {
  "kernelspec": {
   "display_name": "Python 3",
   "language": "python",
   "name": "python3"
  },
  "language_info": {
   "codemirror_mode": {
    "name": "ipython",
    "version": 3
   },
   "file_extension": ".py",
   "mimetype": "text/x-python",
   "name": "python",
   "nbconvert_exporter": "python",
   "pygments_lexer": "ipython3",
   "version": "3.6.1"
  }
 },
 "nbformat": 4,
 "nbformat_minor": 2
}
